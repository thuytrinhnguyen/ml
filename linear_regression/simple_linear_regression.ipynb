{
 "cells": [
  {
   "cell_type": "code",
   "execution_count": 1,
   "metadata": {},
   "outputs": [],
   "source": [
    "import numpy as np\n",
    "import matplotlib.pyplot as plt"
   ]
  },
  {
   "cell_type": "markdown",
   "metadata": {},
   "source": [
    "## 1. Simulate a Dataset Using Numpy Array \n",
    "Using Numpy array to wrap Python array to gain benefits from Numpy library"
   ]
  },
  {
   "cell_type": "code",
   "execution_count": 2,
   "metadata": {},
   "outputs": [
    {
     "data": {
      "text/plain": [
       "<matplotlib.collections.PathCollection at 0x2115e9b4790>"
      ]
     },
     "execution_count": 2,
     "metadata": {},
     "output_type": "execute_result"
    },
    {
     "data": {
      "image/png": "[encoded data removed]",
      "text/plain": [
       "<Figure size 432x288 with 1 Axes>"
      ]
     },
     "metadata": {
      "needs_background": "light"
     },
     "output_type": "display_data"
    }
   ],
   "source": [
    "X = np.array([2.0, 2.5, 3.6, 4.5, 5.0, 7.0, 7.5, 8.0])\n",
    "Y = np.array([1.5, 3.5, 4.5, 3.8, 7.0, 4.7, 5.5, 8.0])\n",
    "plt.scatter(X, Y)"
   ]
  },
  {
   "cell_type": "markdown",
   "metadata": {},
   "source": [
    "## 2. How to Fit a Good Line\n",
    "\n",
    "### 2.1. What is Residual Sum of Squares?\n",
    "\n",
    "Assumption: $X$ and $Y$ have a linear relationship\n",
    "\n",
    "\n",
    "To predict $Y$ based on $x_{i}$ - the $i$th value of $X$, we use: $\\hat{y_{i}} = \\hat{\\beta_{0}} + \\hat{\\beta_{1}}x_{i}$ \n",
    "\n",
    "\n",
    "The difference between the true $y_{i}$ and the estimated $\\hat{y_{i}}$ is: $y_{i} - \\hat{y_{i}}$ = $y{i} - \\hat{\\beta_{0}} - \\hat{\\beta_{1}}x_{i}$\n",
    "\n",
    "A good fitted line is the one that gives the smallest error between $y_{i}$ and $\\hat{y_{i}}$. In other words, this happens when the total distance from each observation point to the fitted line is smallest. The measurement of distance between observations is __Residual Sum of Squares (RSS)__:\n",
    "\n",
    "$RSS = \\sum_{i=1}^{n} (y_{i} - \\hat{\\beta_{0}} - \\hat{\\beta_{1}}x_{i})^2$\n",
    "\n",
    "or equivalent as:\n",
    "\n",
    "$RSS = (y_{1} - \\hat{\\beta_{0}} - \\hat{\\beta_{1}}x_{1})^2 + (y_{2} - \\hat{\\beta_{0}} - \\hat{\\beta_{1}}x_{2})^2 + ... + (y_{n} - \\hat{\\beta_{0}} - \\hat{\\beta_{1}}x_{n})^2$\n",
    "\n",
    "Our purpose is to minimize $RSS$.\n",
    "\n",
    "<img src=\"figures/RSS.png\" style=\"width:400px;\"/>"
   ]
  },
  {
   "cell_type": "markdown",
   "metadata": {},
   "source": [
    "### 2.2. How to Minimize Residual Sum of Squares?\n",
    "\n",
    "#### 2.2.1. Characteristics of a Convex Model\n",
    "Plotting RSS in a 3D environment, we can see that RSS plot is convex and therefore has a minimum, which is highlighted as a red dot. The minimum point of a convex model is calculated by setting RSS derivative to zero.\n",
    "\n",
    "Derivative is the rate of change. This means if $A$ changes $h$ units, how will $B$ react to that change which is denoted as $\\frac{\\partial A}{\\partial B}$ - the derivative of $A$ with respect to $B$.\n",
    "\n",
    "If the derivative of $A$ with respect to $B$ is zero, it means that, at this point, changes in $B$ do not affect $A$. When this happens, we have found the minimum value of the convex function.\n",
    "\n",
    "Hence, in order to find the min value of RSS, we set the derivative of RSS to zero and find the unknowns.\n",
    "\n",
    "<img src=\"figures/3D_RSS.png\" style=\"width:400px;\"/>\n",
    "\n",
    "#### 2.2.2. Calculate the Derivative of RSS\n",
    "As mentioned in the previous section, with the objective of minimizing RSS, we need to find RSS derivative with respect to the unknowns. In this case, two unknowns are $\\hat{\\beta_{0}}$ and $\\hat{\\beta_{1}}$ because we already have data on $X$ and $Y$, now we need to find $\\hat{\\beta_{0}}$ and $\\hat{\\beta_{1}}$ to plot a line representing $X$ and $Y$ relationship.\n",
    "\n",
    "The derivative of RSS with respect to $\\hat{\\beta_{0}}$ and $\\hat{\\beta_{1}}$ are partial derivative of a multivariate function, denoted as: $\\frac{\\partial RSS}{\\partial \\hat{\\beta_{0}}}$ and $\\frac{\\partial RSS}{\\partial \\hat{\\beta_{1}}}$ \n",
    "\n",
    "To minimize RSS, we set these partial derivatives to zero. After computing with some calculus techniques, the optimal $\\hat{\\beta_{0}}$ and $\\hat{\\beta_{1}}$ are: $\\; \\beta_1 = \\frac{\\sum_{i=1}^{n}x_{i}(y_{i}-\\bar{y})}{\\sum_{i=1}^{n}x_{i}(x_{i}-\\bar{x})}, \\; \\beta_0 = \\bar{y} - \\hat{\\beta_{1}}\\bar{x}$\n",
    "\n",
    "Substitute the value of $x_{i}$ and $y_{i}$ into the optimal function for $\\hat{\\beta_{0}}$ and $\\hat{\\beta_{1}}$, we can plot the optimal fitted line."
   ]
  },
  {
   "cell_type": "markdown",
   "metadata": {},
   "source": [
    "### 2.3. Demonstrate Line Fitting Process\n",
    "Using what we have learnt from section 3, the process of finding the fitted line is demonstrated below."
   ]
  },
  {
   "cell_type": "code",
   "execution_count": 3,
   "metadata": {},
   "outputs": [],
   "source": [
    "y_bar = np.mean(Y)\n",
    "x_bar = np.mean(X)"
   ]
  },
  {
   "cell_type": "code",
   "execution_count": 4,
   "metadata": {},
   "outputs": [],
   "source": [
    "b1_num = np.dot(X, Y - y_bar)\n",
    "b1_den = np.dot(X, X - x_bar)\n",
    "b1 = b1_num/b1_den"
   ]
  },
  {
   "cell_type": "code",
   "execution_count": 5,
   "metadata": {},
   "outputs": [],
   "source": [
    "b0 = y_bar - b1*x_bar"
   ]
  },
  {
   "cell_type": "code",
   "execution_count": 6,
   "metadata": {},
   "outputs": [],
   "source": [
    "def model(x):\n",
    "    return b0 + b1 * x"
   ]
  },
  {
   "cell_type": "code",
   "execution_count": 7,
   "metadata": {},
   "outputs": [],
   "source": [
    "X_plot = np.arange(0, 10)\n",
    "Y_plot = np.array([model(x) for x in X_plot])"
   ]
  },
  {
   "cell_type": "code",
   "execution_count": 8,
   "metadata": {},
   "outputs": [
    {
     "data": {
      "text/plain": [
       "[<matplotlib.lines.Line2D at 0x2115ea3dc70>]"
      ]
     },
     "execution_count": 8,
     "metadata": {},
     "output_type": "execute_result"
    },
    {
     "data": {
      "image/png": "[encoded data removed]",
      "text/plain": [
       "<Figure size 432x288 with 1 Axes>"
      ]
     },
     "metadata": {
      "needs_background": "light"
     },
     "output_type": "display_data"
    }
   ],
   "source": [
    "plt.scatter(X, Y)\n",
    "plt.plot(X_plot, Y_plot)"
   ]
  },
  {
   "cell_type": "markdown",
   "metadata": {},
   "source": [
    "## 3. Evaluate the Accuracy of the Coefficient Estimates\n",
    "### 3.1. Evaluate Sample Error of $\\hat{\\mu}$\n",
    "The standard error of $\\hat{\\mu}$ is a measurement on how accurate the sample mean $\\widehat{\\mu}$ is as an estimation of $\\mu$. Standard error of the mean is calculated the following formula:          \n",
    "\n",
    "$Var(\\hat{\\mu}) = SE(\\hat{\\mu})^2 = \\frac{\\sigma^2}{n}$\n",
    "\n",
    "where $\\sigma$ is the standard deviation of the population, which can be estimated by standard deviation of the mean. \n",
    "\n",
    "From this formular we understand that the larger the sample size ($n$), the closer $\\hat{\\mu}$ is to the actual $\\mu$\n",
    "\n",
    "### 3.2. Evaluate $\\hat{\\beta_{0}}$ and $\\hat{\\beta_{1}}$\n",
    "The same idea applies to $\\hat{\\beta_{0}}$ and $\\hat{\\beta_{1}}$. We can measure how close $\\hat{\\beta_{0}}$ and $\\hat{\\beta_{1}}$ are to the true $\\beta_{0}$ and $\\beta_{1}$ using:\n",
    "\n",
    "\n",
    "$SE(\\hat{\\beta_{0}})^2 = \\sigma^2 \\left [\\frac{1}{n} + \\frac{\\bar{x}^2}{\\sum_{i=1}^{n}(x_{i} - \\bar{x})^2} \\right ], \\;    SE(\\hat{\\beta_{1}})^2 = \\frac{\\sigma^2}{\\sum_{i=1}^{n}(x_{i} - \\bar{x})^2}$\n",
    "\n",
    "\n",
    "where $\\sigma^2 = Var(\\epsilon )$. In general, $\\sigma^2$ is not known, but can be estimated from the data. The estimate of $\\sigma$ is __Residual Standard Error__: \n",
    "\n",
    "\n",
    "$RSE=\\sqrt{\\frac{RSS}{n-2}}$\n",
    "\n",
    "### 3.3. The Use of $SE(\\hat{\\beta_{0}})$ and $SE(\\hat{\\beta_{1}})$\n",
    "\n",
    "#### 3.3.1. To Calculate Confidence Intervals\n",
    "Confidence interval is a range of values, with a certain probability, will contain the true value of an unknown parameter.\n",
    "\n",
    "For linear regression, the $95\\%$ confidence interval for $\\beta_{1}$ is: $\\left [ \\hat{\\beta_{1}} - 2.SE(\\beta_{1}), \\; \\hat{\\beta_{1}} + 2.SE(\\beta_{1}) \\right ]$\n",
    "\n",
    "Similarly, a confidence interval for $\\beta_{0}$ takes the form:    $\\hat{\\beta_{0}} \\pm 2.SE(\\beta_{0})$\n",
    " \n",
    "#### 3.3.2. To Perform Hypothesis Tests\n",
    "Another use for standard errors is to perform hypothesis tests. Commonly, there will be a null hypothesis and an alternative one:\n",
    "\n",
    "$H_{0}$ : $\\beta_{1} = 0$  or  There is no relationship between $X$ and $Y$\n",
    "\n",
    "$H_{1}$ : $\\beta_{1} \\neq 0$  or  There is some relationship between $X$ and $Y$\n",
    "\n",
    "To test the null hypothesis, we need to determine how far is $\\hat{\\beta_{1}}$ from zero, this depends on how accurate $\\hat{\\beta_{1}}$ for estimating $\\beta{1}$ which is $SE(\\hat{\\beta_{1}})$. Basically, there are two rules to remember:\n",
    "\n",
    "1. If $SE(\\hat{\\beta_{1}})$ is small, $\\hat{\\beta_{1}}$ can be a small number\n",
    "2. If $SE(\\hat{\\beta_{1}})$ is large, $\\hat{\\beta_{1}}$ must be a large number, far from zero\n",
    "\n",
    "In practice, we compute a *t-statistic* given by: $\\; t = \\frac{\\beta_{1}}{SE(\\hat{\\beta_{1}})}$\n",
    "\n",
    "The t-statistic measures the number of standard deviation that $\\beta_{1}$ is away from $0$, which mean if we were to reject the null hypothesis, the *t-statistic* should be a large number.\n",
    "\n",
    "Another important concept in hypothesis testing is $p-value$. It is the probability of obtaining a number that is equal or larger than $|t|$. The smaller p-value is, the more unlikely the result is by chance, hence, reconfirm our findings. \n",
    "\n",
    "To visualize the idea of p-value, let's have a look at the image below.\n",
    "\n",
    "<img src=\"figures/p-value.png\" style=\"width:550px;\"/>\n",
    "\n",
    "From the image, we can see that p-value = $P(|t| \\geq Value)$ which is the area highlighted in green. If p-value is smaller than $0.05$ or $0.01$, the p-value is significant and we can conclude that there is some relationship between $X$ and $Y$.\n",
    "\n",
    "In that case, we will reject $H_{0}$ in favor of the alternative hypothesis."
   ]
  },
  {
   "cell_type": "markdown",
   "metadata": {},
   "source": [
    "### 3.4. Demonstrate the Process of Evaluating Estimated Coefficients\n",
    "#### 3.4.1. Evaluate Standard Error of $\\hat{\\mu}$"
   ]
  },
  {
   "cell_type": "markdown",
   "metadata": {},
   "source": [
    "$SE(\\hat{\\mu}) = \\frac{\\sigma}{\\sqrt{n}} \\approx 0.81$ with $\\sigma$ being estimated by the sample standard deviation $s$.\n",
    "\n",
    "$s = \\sqrt{\\frac{\\sum_{i=1}^{n}(x_{i} - \\bar{x})^2}{n-1}}$"
   ]
  },
  {
   "cell_type": "code",
   "execution_count": 9,
   "metadata": {},
   "outputs": [
    {
     "data": {
      "text/plain": [
       "0.8096378158517193"
      ]
     },
     "execution_count": 9,
     "metadata": {},
     "output_type": "execute_result"
    }
   ],
   "source": [
    "n = len(X)\n",
    "sd_num = np.sum((X - x_bar)**2)\n",
    "sd_den = n - 1\n",
    "\n",
    "sd = np.sqrt(sd_num/sd_den)\n",
    "\n",
    "se_mu = sd/np.sqrt(n)\n",
    "\n",
    "se_mu"
   ]
  },
  {
   "cell_type": "markdown",
   "metadata": {},
   "source": [
    "#### 3.4.2. Evaluate Standard Error of $SE(\\hat{\\beta_{0}})^2$ and $SE(\\hat{\\beta_{1}})^2$ "
   ]
  },
  {
   "cell_type": "markdown",
   "metadata": {},
   "source": [
    "$SE(\\hat{\\beta_{0}})^2 = \\sigma^2 \\left [\\frac{1}{n} + \\frac{\\bar{x}^2}{\\sum_{i=1}^{n}(x_{i} - \\bar{x})^2} \\right ] = 1.96$\n",
    "\n",
    "$SE(\\hat{\\beta_{1}})^2 = \\frac{\\sigma^2}{\\sum_{i=1}^{n}(x_{i} - \\bar{x})^2} = 0.05$     \n",
    "\n",
    "with $\\sigma^2 = Var(\\epsilon)$ which is estimated by *Residual Standard Error*:      $RSE=\\sqrt{\\frac{RSS}{n-2}}$"
   ]
  },
  {
   "cell_type": "code",
   "execution_count": 20,
   "metadata": {},
   "outputs": [
    {
     "data": {
      "text/plain": [
       "1.9554996554921125"
      ]
     },
     "execution_count": 20,
     "metadata": {},
     "output_type": "execute_result"
    }
   ],
   "source": [
    "rss = np.square(Y - model(X)).sum()\n",
    "\n",
    "rse = np.sqrt(rss/(n-2))\n",
    "\n",
    "se_b0_squared = rse**2 * ( 1/n + x_bar**2 / np.sum((Y - y_bar)**2) )\n",
    "se_b0_squared"
   ]
  },
  {
   "cell_type": "code",
   "execution_count": 11,
   "metadata": {},
   "outputs": [
    {
     "data": {
      "text/plain": [
       "0.05413595545131918"
      ]
     },
     "execution_count": 11,
     "metadata": {},
     "output_type": "execute_result"
    }
   ],
   "source": [
    "se_b1_squared = rse**2 / np.sum((X - x_bar)**2)\n",
    "se_b1_squared"
   ]
  },
  {
   "cell_type": "markdown",
   "metadata": {},
   "source": [
    "#### 3.4.3. Calculate 95% Confidence Interval\n",
    "\n",
    "* __95% Confidence Interval for $\\beta_{0}$:__ [-1.43, 4.17]"
   ]
  },
  {
   "cell_type": "code",
   "execution_count": 12,
   "metadata": {},
   "outputs": [
    {
     "data": {
      "text/plain": [
       "[-1.4278491025334041, 4.165718139207219]"
      ]
     },
     "execution_count": 12,
     "metadata": {},
     "output_type": "execute_result"
    }
   ],
   "source": [
    "b0_lower = b0 - 2*np.sqrt(se_b0_squared)\n",
    "b0_upper = b0 + 2*np.sqrt(se_b0_squared)\n",
    "b0_cf = [b0_lower, b0_upper]\n",
    "b0_cf"
   ]
  },
  {
   "cell_type": "markdown",
   "metadata": {},
   "source": [
    "* __95% Confidence Interval for $\\beta_{1}$:__ [0.22, 1.15]"
   ]
  },
  {
   "cell_type": "code",
   "execution_count": 13,
   "metadata": {},
   "outputs": [
    {
     "data": {
      "text/plain": [
       "[0.22165291444672486, 1.1523383001819405]"
      ]
     },
     "execution_count": 13,
     "metadata": {},
     "output_type": "execute_result"
    }
   ],
   "source": [
    "b1_lower = b1 - 2*np.sqrt(se_b1_squared)\n",
    "b1_upper = b1 + 2*np.sqrt(se_b1_squared)\n",
    "b1_cf = [b1_lower, b1_upper]\n",
    "b1_cf"
   ]
  },
  {
   "cell_type": "markdown",
   "metadata": {},
   "source": [
    "#### 3.4.4. Calculate *t-statistic* and *p-value*\n",
    "$t = \\frac{\\hat{\\beta_{1}}}{SE(\\beta_{1})} = 2.95$\n",
    "\n",
    "Look up *p-value* in the t-table with 6 degrees of freedom (sample size is 8, 2 variables in the model). We will find that: $0.02 <$ *p-value* $<0.04$, which is smaller than $0.05$.\n",
    "\n",
    "We will reject the null hypothesis in favor of the alternative and conclude that $X$ and $Y$ have some relationship."
   ]
  },
  {
   "cell_type": "code",
   "execution_count": 14,
   "metadata": {},
   "outputs": [
    {
     "data": {
      "text/plain": [
       "2.952643794966761"
      ]
     },
     "execution_count": 14,
     "metadata": {},
     "output_type": "execute_result"
    }
   ],
   "source": [
    "t = b1/np.sqrt(se_b1_squared)\n",
    "t"
   ]
  },
  {
   "cell_type": "markdown",
   "metadata": {},
   "source": [
    "## 4. Evaluate the Model\n",
    "After conclude that we can reject $H_{0}$ in favor of $H_{1}$, it is time to quantify *the extent to which the model fits the data* (level of fit). There are two common methods of evaluating a linear regression model.\n",
    "\n",
    "### 4.1. Lack of Fit Indicator - Residual Standard Error (RSE)\n",
    "The $RSE$ is an estimate of the standard deviation of $\\epsilon$. Roughly speaking, it is the average amount that the response will deviate from the true regression line.\n",
    "\n",
    "As mentioned from previous part: $RSE= \\sqrt{\\frac{RSS}{n-2}} = \\sqrt{\\frac{\\sum_{i=1}^{n}(y_{i} - \\hat{y_{i}})^2}{n-2}}$\n",
    "\n",
    "After calculating $RSE$, we will evaluate the lack of fit using percentage of error: $\\frac{RSS}{\\bar{y}} \\times 100\\%$.\n",
    "\n",
    "If the model is a good fit for the dataset, meaning  $\\hat{y_{i}} \\approx y_{i}$ for $i = 1, ..., n$, the error percentage should be low. On the other hand, if $\\hat{y_{i}}$ is very far from $y_{i}$ for one or more observations, $RSE$ may be quite large showing that the model lacks of fit.\n",
    "\n",
    "### 4.2. Goodness of Fit Indicator - $R^2$ \n",
    "$R^2$ is an alternative to measure fit. It takes the form of a proportion ($0 \\leq R^2 \\leq 1$) - the *__proportion of variance explained__*.\n",
    "\n",
    "$R^2 = \\frac{TSS - RSS}{TSS} = 1 - \\frac{RSS}{TSS}$ where: \n",
    "\n",
    "Total Sum of Squares: $TSS = \\sum(y_{i} - \\bar{y})^2$\n",
    "\n",
    "Residual Sum of Squares: $RSS = \\sum(y_{i} - \\hat{y_{i}})^2$\n",
    "\n",
    "TSS is the total variance of variable Y before the regression is performed. RSS is the errors that remains after the regression is performed. Hence $TSS - RSS$ is the amount of variance that is explained using the model. The percentage show how much of $Y$ has been explained by $X$ using the model.\n",
    "\n",
    "Usually, a high $R^2$ shows that $X$ can explain most of $Y$ and hence the model is a good fit. However, there are situations where $R^2$ is influenced by the nature of the dataset and does not correctly reflect the goodness of fit very well. \n",
    "\n",
    "For examples:\n",
    "* The dataset is known to have a nearly linear pattern, $R^2$ is higher than normal\n",
    "* There are many unmeasured factors resulting in a lower than normal $R^2$\n",
    "\n",
    "Despite the mentioned shortcoming, $R^2$ is still considered one of the best method to measure goodness of fit as it is applicable for more complex models with multiple variables."
   ]
  },
  {
   "cell_type": "markdown",
   "metadata": {},
   "source": [
    "### 4.3. Demonstrate the Process of Evaluating the Model\n",
    "#### 4.3.1. Residual Standard Error (RSE)\n",
    "The result of $RSE \\approx 1.4$ gives a percentage of error is approximately 29.3% which indicates that the model lacks of fit. However, the sample size of 8 observations is limited and the lack of fit is understandable."
   ]
  },
  {
   "cell_type": "code",
   "execution_count": 15,
   "metadata": {},
   "outputs": [
    {
     "data": {
      "text/plain": [
       "0.29292535076823356"
      ]
     },
     "execution_count": 15,
     "metadata": {},
     "output_type": "execute_result"
    }
   ],
   "source": [
    "percentage_error = rse/y_bar\n",
    "percentage_error"
   ]
  },
  {
   "cell_type": "markdown",
   "metadata": {},
   "source": [
    "#### 4.3.2. $R^2$\n",
    "The model has an $R^2$ of approximately $0.5924$ which means that variable $X$ can explain $59.24%$ variance in $Y$. Although this is not a high $R^2$, the result is acceptable because of the small sample size."
   ]
  },
  {
   "cell_type": "code",
   "execution_count": 16,
   "metadata": {},
   "outputs": [
    {
     "data": {
      "text/plain": [
       "0.5923388340342177"
      ]
     },
     "execution_count": 16,
     "metadata": {},
     "output_type": "execute_result"
    }
   ],
   "source": [
    "tss = np.sum((Y - y_bar)**2)\n",
    "r_squared = 1 - rss/tss\n",
    "r_squared"
   ]
  },
  {
   "cell_type": "markdown",
   "metadata": {},
   "source": [
    "## Appendix"
   ]
  },
  {
   "cell_type": "markdown",
   "metadata": {},
   "source": [
    "### Appendix 1: Image Creation"
   ]
  },
  {
   "cell_type": "code",
   "execution_count": 17,
   "metadata": {},
   "outputs": [
    {
     "data": {
      "image/png": "[encoded data removed]",
      "text/plain": [
       "<Figure size 432x288 with 1 Axes>"
      ]
     },
     "metadata": {
      "needs_background": "light"
     },
     "output_type": "display_data"
    }
   ],
   "source": [
    "plt.scatter(X, Y)\n",
    "plt.plot(X_plot, Y_plot)\n",
    "plt.title('Distance between true y and estimated y')\n",
    "\n",
    "for i in range(len(X)):\n",
    "    x = X[i]\n",
    "    y = Y[i]\n",
    "    y_hat = model(x)\n",
    "    plt.plot([x, x], [y, y_hat], color = 'red')"
   ]
  }
 ],
 "metadata": {
  "kernelspec": {
   "display_name": "Python 3",
   "language": "python",
   "name": "python3"
  },
  "language_info": {
   "codemirror_mode": {
    "name": "ipython",
    "version": 3
   },
   "file_extension": ".py",
   "mimetype": "text/x-python",
   "name": "python",
   "nbconvert_exporter": "python",
   "pygments_lexer": "ipython3",
   "version": "3.8.2"
  }
 },
 "nbformat": 4,
 "nbformat_minor": 4
}
